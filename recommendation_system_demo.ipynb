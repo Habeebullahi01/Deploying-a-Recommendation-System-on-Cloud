{
 "cells": [
  {
   "cell_type": "code",
   "execution_count": 1,
   "metadata": {},
   "outputs": [],
   "source": [
    "from recommendation_engine import Movie_recomendation_system,Recommendation_tools"
   ]
  },
  {
   "cell_type": "code",
   "execution_count": 2,
   "metadata": {},
   "outputs": [],
   "source": [
    "import numpy as np\n",
    "import pandas as pd\n",
    "import matplotlib.pyplot as plt\n",
    "import seaborn as sns\n",
    "import random"
   ]
  },
  {
   "cell_type": "code",
   "execution_count": 3,
   "metadata": {},
   "outputs": [],
   "source": [
    "user_preference = Movie_recomendation_system.get_user_preference()"
   ]
  },
  {
   "cell_type": "markdown",
   "metadata": {},
   "source": [
    "#### A benchmark of the time taken to make movie recommmendations"
   ]
  },
  {
   "cell_type": "code",
   "execution_count": 4,
   "metadata": {},
   "outputs": [
    {
     "name": "stdout",
     "output_type": "stream",
     "text": [
      "Wall time: 3.5 s\n"
     ]
    },
    {
     "data": {
      "text/plain": [
       "['Fugitive, The (1993)',\n",
       " 'Usual Suspects, The (1995)',\n",
       " 'Quiz Show (1994)',\n",
       " 'Stand by Me (1986)',\n",
       " 'Empire Strikes Back, The (1980)',\n",
       " 'Field of Dreams (1989)',\n",
       " 'Terminator 2: Judgment Day (1991)',\n",
       " 'Pulp Fiction (1994)',\n",
       " 'Shawshank Redemption, The (1994)',\n",
       " 'Heat (1995)',\n",
       " 'Princess Bride, The (1987)',\n",
       " 'Return of the Jedi (1983)',\n",
       " 'Star Wars (1977)',\n",
       " 'Seven (Se7en) (1995)',\n",
       " 'E.T. the Extra-Terrestrial (1982)',\n",
       " 'Toy Story (1995)',\n",
       " 'Four Weddings and a Funeral (1994)',\n",
       " 'Hunt for Red October, The (1990)',\n",
       " 'Beauty and the Beast (1991)',\n",
       " 'Rock, The (1996)',\n",
       " 'Maverick (1994)',\n",
       " 'Jaws (1975)',\n",
       " 'Birdcage, The (1996)',\n",
       " 'Firm, The (1993)',\n",
       " 'Clueless (1995)',\n",
       " 'Lion King, The (1994)',\n",
       " 'Terminator, The (1984)',\n",
       " 'Jerry Maguire (1996)',\n",
       " 'Indiana Jones and the Last Crusade (1989)',\n",
       " 'Groundhog Day (1993)',\n",
       " 'Jurassic Park (1993)',\n",
       " 'Aliens (1986)',\n",
       " 'Independence Day (ID4) (1996)',\n",
       " 'Godfather, The (1972)',\n",
       " 'Star Trek: The Wrath of Khan (1982)',\n",
       " 'Monty Python and the Holy Grail (1974)',\n",
       " 'American President, The (1995)',\n",
       " \"One Flew Over the Cuckoo's Nest (1975)\",\n",
       " 'Mary Poppins (1964)',\n",
       " 'Grease (1978)',\n",
       " \"It's a Wonderful Life (1946)\",\n",
       " 'Fantasia (1940)',\n",
       " 'Unforgiven (1992)',\n",
       " 'Cool Hand Luke (1967)',\n",
       " 'Casablanca (1942)',\n",
       " 'Dr. Strangelove or: How I Learned to Stop Worrying and Love the Bomb (1963)',\n",
       " 'Die Hard (1988)',\n",
       " 'Blade Runner (1982)',\n",
       " 'Natural Born Killers (1994)',\n",
       " 'Searching for Bobby Fischer (1993)',\n",
       " 'Braveheart (1995)',\n",
       " 'Chinatown (1974)',\n",
       " 'Sneakers (1992)',\n",
       " 'Apocalypse Now (1979)',\n",
       " 'Pump Up the Volume (1990)',\n",
       " 'Star Trek III: The Search for Spock (1984)',\n",
       " 'Right Stuff, The (1983)',\n",
       " 'Alien (1979)',\n",
       " '2001: A Space Odyssey (1968)',\n",
       " \"Jackie Chan's First Strike (1996)\",\n",
       " 'Clerks (1994)',\n",
       " 'Liar Liar (1997)',\n",
       " 'True Lies (1994)',\n",
       " 'Air Force One (1997)',\n",
       " 'Sense and Sensibility (1995)',\n",
       " 'While You Were Sleeping (1995)',\n",
       " 'Outbreak (1995)',\n",
       " 'Othello (1995)',\n",
       " 'One Fine Day (1996)',\n",
       " 'On Golden Pond (1981)',\n",
       " 'Omen, The (1976)',\n",
       " 'Old Yeller (1957)',\n",
       " 'Star Trek IV: The Voyage Home (1986)',\n",
       " 'Twister (1996)',\n",
       " 'Fried Green Tomatoes (1991)',\n",
       " 'Batman (1989)',\n",
       " 'Contact (1997)',\n",
       " 'Vertigo (1958)',\n",
       " 'Mrs. Doubtfire (1993)',\n",
       " 'Bridges of Madison County, The (1995)',\n",
       " 'That Thing You Do! (1996)',\n",
       " 'Speed (1994)',\n",
       " 'Nightmare Before Christmas, The (1993)',\n",
       " 'Star Trek: Generations (1994)',\n",
       " 'Star Trek: First Contact (1996)',\n",
       " 'Fargo (1996)',\n",
       " 'Sting, The (1973)',\n",
       " 'Jane Eyre (1996)',\n",
       " 'Breaking the Waves (1996)',\n",
       " 'Richard III (1995)',\n",
       " 'Jungle2Jungle (1997)',\n",
       " 'Beautician and the Beast, The (1997)',\n",
       " \"Ulee's Gold (1997)\",\n",
       " \"McHale's Navy (1997)\",\n",
       " 'Rosewood (1997)',\n",
       " 'Angels and Insects (1995)',\n",
       " 'Crucible, The (1996)',\n",
       " 'Muppet Treasure Island (1996)',\n",
       " 'Broken Arrow (1996)',\n",
       " 'Executive Decision (1996)',\n",
       " 'Multiplicity (1996)',\n",
       " 'Sabrina (1995)',\n",
       " 'Men in Black (1997)',\n",
       " 'Twelve Monkeys (1995)',\n",
       " 'GoodFellas (1990)',\n",
       " 'Dave (1993)',\n",
       " 'This Is Spinal Tap (1984)',\n",
       " 'Fish Called Wanda, A (1988)']"
      ]
     },
     "execution_count": 4,
     "metadata": {},
     "output_type": "execute_result"
    }
   ],
   "source": [
    "%%time\n",
    "Movie_recomendation_system.automatic_recommendation(user_preference,12)"
   ]
  },
  {
   "cell_type": "code",
   "execution_count": 5,
   "metadata": {},
   "outputs": [
    {
     "name": "stdout",
     "output_type": "stream",
     "text": [
      "Wall time: 1.95 s\n"
     ]
    },
    {
     "data": {
      "text/plain": [
       "['Celluloid Closet, The (1995)',\n",
       " 'Richard III (1995)',\n",
       " 'Crash (1996)',\n",
       " 'Big Night (1996)',\n",
       " 'In the Company of Men (1997)',\n",
       " 'Mystery Science Theater 3000: The Movie (1996)',\n",
       " 'Mulholland Falls (1996)',\n",
       " 'Kids in the Hall: Brain Candy (1996)',\n",
       " 'Toy Story (1995)',\n",
       " 'Jerry Maguire (1996)',\n",
       " 'Air Force One (1997)',\n",
       " 'Contact (1997)',\n",
       " 'Game, The (1997)',\n",
       " 'Twelve Monkeys (1995)',\n",
       " 'Full Monty, The (1997)',\n",
       " 'Trainspotting (1996)',\n",
       " 'Return of the Jedi (1983)',\n",
       " 'Birdcage, The (1996)',\n",
       " \"Mr. Holland's Opus (1995)\",\n",
       " 'Scream (1996)',\n",
       " 'Conspiracy Theory (1997)',\n",
       " 'Men in Black (1997)',\n",
       " 'In & Out (1997)',\n",
       " \"My Best Friend's Wedding (1997)\",\n",
       " 'Time to Kill, A (1996)',\n",
       " 'Independence Day (ID4) (1996)',\n",
       " 'People vs. Larry Flynt, The (1996)',\n",
       " 'Star Trek: First Contact (1996)',\n",
       " 'English Patient, The (1996)',\n",
       " 'Wag the Dog (1997)',\n",
       " 'Amistad (1997)',\n",
       " 'Apt Pupil (1998)',\n",
       " 'Apostle, The (1997)',\n",
       " 'Man Who Knew Too Little, The (1997)',\n",
       " 'Tomorrow Never Dies (1997)',\n",
       " 'Midnight in the Garden of Good and Evil (1997)',\n",
       " 'G.I. Jane (1997)',\n",
       " 'Cable Guy, The (1996)',\n",
       " 'Volcano (1997)',\n",
       " \"Devil's Own, The (1997)\",\n",
       " 'Jackie Brown (1997)',\n",
       " 'Austin Powers: International Man of Mystery (1997)',\n",
       " 'Sleepers (1996)',\n",
       " \"Dante's Peak (1997)\",\n",
       " \"Things to Do in Denver when You're Dead (1995)\",\n",
       " 'Donnie Brasco (1997)',\n",
       " 'That Thing You Do! (1996)',\n",
       " 'Primal Fear (1996)',\n",
       " 'Grosse Pointe Blank (1997)',\n",
       " 'Rock, The (1996)',\n",
       " 'Last Supper, The (1995)',\n",
       " 'Mother (1996)',\n",
       " 'Postino, Il (1994)',\n",
       " 'Leaving Las Vegas (1995)',\n",
       " 'Everyone Says I Love You (1996)',\n",
       " 'Michael Collins (1996)',\n",
       " 'Mighty Aphrodite (1995)',\n",
       " 'Lone Star (1996)',\n",
       " 'Welcome to the Dollhouse (1995)',\n",
       " 'Grumpier Old Men (1995)',\n",
       " 'Evita (1996)',\n",
       " 'Dead Man Walking (1995)',\n",
       " 'Breaking the Waves (1996)',\n",
       " 'Saint, The (1997)',\n",
       " 'Cop Land (1997)',\n",
       " 'Mrs. Brown (Her Majesty, Mrs. Brown) (1997)',\n",
       " 'Cold Comfort Farm (1995)',\n",
       " 'Seven Years in Tibet (1997)',\n",
       " 'Fifth Element, The (1997)',\n",
       " 'Crucible, The (1996)',\n",
       " '101 Dalmatians (1996)',\n",
       " 'Spitfire Grill, The (1996)',\n",
       " \"Antonia's Line (1995)\",\n",
       " 'Jane Eyre (1996)',\n",
       " \"Ulee's Gold (1997)\",\n",
       " 'Bean (1997)',\n",
       " 'Angels and Insects (1995)',\n",
       " 'Chasing Amy (1997)',\n",
       " 'Liar Liar (1997)',\n",
       " 'Face/Off (1997)',\n",
       " 'Ransom (1996)',\n",
       " 'Long Kiss Goodnight, The (1996)',\n",
       " 'Swingers (1996)',\n",
       " 'Life Less Ordinary, A (1997)',\n",
       " 'Rainmaker, The (1997)',\n",
       " 'Boot, Das (1981)',\n",
       " 'Fly Away Home (1996)',\n",
       " 'Phenomenon (1996)',\n",
       " 'Broken Arrow (1996)',\n",
       " 'Heat (1995)',\n",
       " 'Courage Under Fire (1996)']"
      ]
     },
     "execution_count": 5,
     "metadata": {},
     "output_type": "execute_result"
    }
   ],
   "source": [
    "%%time\n",
    "Movie_recomendation_system.automatic_recommendation(user_preference,2)"
   ]
  },
  {
   "cell_type": "markdown",
   "metadata": {},
   "source": [
    "### Result :"
   ]
  },
  {
   "cell_type": "markdown",
   "metadata": {},
   "source": [
    "#### **This shows that the model with scale well in production with a peak time of  3.5 s for prediction** "
   ]
  },
  {
   "cell_type": "markdown",
   "metadata": {},
   "source": [
    "#### **This time is fairly constant regardless of the number of movies watched by the user** "
   ]
  },
  {
   "cell_type": "code",
   "execution_count": null,
   "metadata": {},
   "outputs": [],
   "source": []
  },
  {
   "cell_type": "markdown",
   "metadata": {},
   "source": [
    "## Evaluating the recommendation system"
   ]
  },
  {
   "cell_type": "markdown",
   "metadata": {},
   "source": [
    "\n",
    "### dropping duplicates to avoid data leakage"
   ]
  },
  {
   "cell_type": "code",
   "execution_count": 6,
   "metadata": {},
   "outputs": [],
   "source": [
    "user_preference = user_preference.drop_duplicates(subset =  ['user_id','movie_title']).reset_index()"
   ]
  },
  {
   "cell_type": "markdown",
   "metadata": {},
   "source": [
    "### splitting the dataset into train and test set using a ration of 70 : 30"
   ]
  },
  {
   "cell_type": "code",
   "execution_count": 7,
   "metadata": {},
   "outputs": [],
   "source": [
    "data_length = len(user_preference)\n",
    "train_size =  int(0.7 * data_length)\n",
    "test_size =  data_length - train_size"
   ]
  },
  {
   "cell_type": "code",
   "execution_count": 8,
   "metadata": {},
   "outputs": [],
   "source": [
    "train_set = user_preference.sample(n = train_size,random_state=42)\n",
    "train_index = train_set.index\n",
    "test_index = [index for index in user_preference.index if index not in train_index]\n",
    "test_set = user_preference.loc[test_index]"
   ]
  },
  {
   "cell_type": "code",
   "execution_count": 9,
   "metadata": {},
   "outputs": [],
   "source": [
    "def prediction_single_user(train_set,test_set,user_id,min_rating = 4,metric_to_use = 'cosine'):\n",
    "    '''\n",
    "    prediction using the automatic_rocommendation\n",
    "    '''\n",
    "    # THis generates a list of movies that the user has watched in the the test set with a rating of at least 4\n",
    "    ground_truth = test_set[(test_set.user_id == user_id) & (test_set.rating >=min_rating)].movie_title.to_list()\n",
    "    # Generates similar movies to the user's favorite movie\n",
    "    prediction = Movie_recomendation_system.automatic_recommendation(train_set,user_id,metric_to_use )\n",
    "    # Generates a list of predicted movies that are in the ground truth \n",
    "    correct_prediction = [x for x in prediction if x in ground_truth ]\n",
    "    \n",
    "    # returns the accuracy of predicted results to the ground truth \n",
    "    try :\n",
    "        automatic_recommendation  = len(correct_prediction)/len(ground_truth)\n",
    "    except ZeroDivisionError:\n",
    "        automatic_recommendation = 0\n",
    "   \n",
    "    return automatic_recommendation"
   ]
  },
  {
   "cell_type": "markdown",
   "metadata": {},
   "source": [
    "### Generates the accuracy of prediction for 30 users in the test set"
   ]
  },
  {
   "cell_type": "code",
   "execution_count": 10,
   "metadata": {},
   "outputs": [
    {
     "name": "stdout",
     "output_type": "stream",
     "text": [
      "Wall time: 2min 32s\n"
     ]
    }
   ],
   "source": [
    "%%time\n",
    "index_to_use = test_set.user_id.unique()\n",
    "metrics = ['cosine','correlation']\n",
    "accuracy = [[prediction_single_user(train_set,test_set,user_id,min_rating = 4,metric_to_use = metric) for user_id in index_to_use[:30]] for metric in metrics ]"
   ]
  },
  {
   "cell_type": "code",
   "execution_count": 11,
   "metadata": {},
   "outputs": [
    {
     "data": {
      "text/html": [
       "<div>\n",
       "<style scoped>\n",
       "    .dataframe tbody tr th:only-of-type {\n",
       "        vertical-align: middle;\n",
       "    }\n",
       "\n",
       "    .dataframe tbody tr th {\n",
       "        vertical-align: top;\n",
       "    }\n",
       "\n",
       "    .dataframe thead th {\n",
       "        text-align: right;\n",
       "    }\n",
       "</style>\n",
       "<table border=\"1\" class=\"dataframe\">\n",
       "  <thead>\n",
       "    <tr style=\"text-align: right;\">\n",
       "      <th></th>\n",
       "      <th>cosine</th>\n",
       "      <th>correlation</th>\n",
       "    </tr>\n",
       "  </thead>\n",
       "  <tbody>\n",
       "    <tr>\n",
       "      <th>0</th>\n",
       "      <td>0.764706</td>\n",
       "      <td>0.764706</td>\n",
       "    </tr>\n",
       "    <tr>\n",
       "      <th>1</th>\n",
       "      <td>0.757576</td>\n",
       "      <td>0.727273</td>\n",
       "    </tr>\n",
       "    <tr>\n",
       "      <th>2</th>\n",
       "      <td>0.200000</td>\n",
       "      <td>0.066667</td>\n",
       "    </tr>\n",
       "    <tr>\n",
       "      <th>3</th>\n",
       "      <td>0.506494</td>\n",
       "      <td>0.467532</td>\n",
       "    </tr>\n",
       "    <tr>\n",
       "      <th>4</th>\n",
       "      <td>0.400000</td>\n",
       "      <td>0.200000</td>\n",
       "    </tr>\n",
       "    <tr>\n",
       "      <th>5</th>\n",
       "      <td>0.481481</td>\n",
       "      <td>0.462963</td>\n",
       "    </tr>\n",
       "    <tr>\n",
       "      <th>6</th>\n",
       "      <td>0.500000</td>\n",
       "      <td>0.473684</td>\n",
       "    </tr>\n",
       "    <tr>\n",
       "      <th>7</th>\n",
       "      <td>0.288889</td>\n",
       "      <td>0.266667</td>\n",
       "    </tr>\n",
       "    <tr>\n",
       "      <th>8</th>\n",
       "      <td>0.777778</td>\n",
       "      <td>0.555556</td>\n",
       "    </tr>\n",
       "    <tr>\n",
       "      <th>9</th>\n",
       "      <td>0.181818</td>\n",
       "      <td>0.181818</td>\n",
       "    </tr>\n",
       "    <tr>\n",
       "      <th>10</th>\n",
       "      <td>0.678571</td>\n",
       "      <td>0.607143</td>\n",
       "    </tr>\n",
       "    <tr>\n",
       "      <th>11</th>\n",
       "      <td>0.500000</td>\n",
       "      <td>0.000000</td>\n",
       "    </tr>\n",
       "    <tr>\n",
       "      <th>12</th>\n",
       "      <td>0.500000</td>\n",
       "      <td>0.333333</td>\n",
       "    </tr>\n",
       "    <tr>\n",
       "      <th>13</th>\n",
       "      <td>0.300000</td>\n",
       "      <td>0.250000</td>\n",
       "    </tr>\n",
       "    <tr>\n",
       "      <th>14</th>\n",
       "      <td>0.368421</td>\n",
       "      <td>0.368421</td>\n",
       "    </tr>\n",
       "    <tr>\n",
       "      <th>15</th>\n",
       "      <td>0.166667</td>\n",
       "      <td>0.000000</td>\n",
       "    </tr>\n",
       "    <tr>\n",
       "      <th>16</th>\n",
       "      <td>0.714286</td>\n",
       "      <td>0.571429</td>\n",
       "    </tr>\n",
       "    <tr>\n",
       "      <th>17</th>\n",
       "      <td>0.647059</td>\n",
       "      <td>0.588235</td>\n",
       "    </tr>\n",
       "    <tr>\n",
       "      <th>18</th>\n",
       "      <td>0.454545</td>\n",
       "      <td>0.272727</td>\n",
       "    </tr>\n",
       "    <tr>\n",
       "      <th>19</th>\n",
       "      <td>0.588235</td>\n",
       "      <td>0.617647</td>\n",
       "    </tr>\n",
       "    <tr>\n",
       "      <th>20</th>\n",
       "      <td>0.651163</td>\n",
       "      <td>0.651163</td>\n",
       "    </tr>\n",
       "    <tr>\n",
       "      <th>21</th>\n",
       "      <td>0.481481</td>\n",
       "      <td>0.333333</td>\n",
       "    </tr>\n",
       "    <tr>\n",
       "      <th>22</th>\n",
       "      <td>0.727273</td>\n",
       "      <td>0.818182</td>\n",
       "    </tr>\n",
       "    <tr>\n",
       "      <th>23</th>\n",
       "      <td>0.485714</td>\n",
       "      <td>0.400000</td>\n",
       "    </tr>\n",
       "    <tr>\n",
       "      <th>24</th>\n",
       "      <td>0.619048</td>\n",
       "      <td>0.666667</td>\n",
       "    </tr>\n",
       "    <tr>\n",
       "      <th>25</th>\n",
       "      <td>0.408451</td>\n",
       "      <td>0.309859</td>\n",
       "    </tr>\n",
       "    <tr>\n",
       "      <th>26</th>\n",
       "      <td>0.500000</td>\n",
       "      <td>0.200000</td>\n",
       "    </tr>\n",
       "    <tr>\n",
       "      <th>27</th>\n",
       "      <td>0.384615</td>\n",
       "      <td>0.307692</td>\n",
       "    </tr>\n",
       "    <tr>\n",
       "      <th>28</th>\n",
       "      <td>0.566667</td>\n",
       "      <td>0.600000</td>\n",
       "    </tr>\n",
       "    <tr>\n",
       "      <th>29</th>\n",
       "      <td>0.559322</td>\n",
       "      <td>0.593220</td>\n",
       "    </tr>\n",
       "  </tbody>\n",
       "</table>\n",
       "</div>"
      ],
      "text/plain": [
       "      cosine  correlation\n",
       "0   0.764706     0.764706\n",
       "1   0.757576     0.727273\n",
       "2   0.200000     0.066667\n",
       "3   0.506494     0.467532\n",
       "4   0.400000     0.200000\n",
       "5   0.481481     0.462963\n",
       "6   0.500000     0.473684\n",
       "7   0.288889     0.266667\n",
       "8   0.777778     0.555556\n",
       "9   0.181818     0.181818\n",
       "10  0.678571     0.607143\n",
       "11  0.500000     0.000000\n",
       "12  0.500000     0.333333\n",
       "13  0.300000     0.250000\n",
       "14  0.368421     0.368421\n",
       "15  0.166667     0.000000\n",
       "16  0.714286     0.571429\n",
       "17  0.647059     0.588235\n",
       "18  0.454545     0.272727\n",
       "19  0.588235     0.617647\n",
       "20  0.651163     0.651163\n",
       "21  0.481481     0.333333\n",
       "22  0.727273     0.818182\n",
       "23  0.485714     0.400000\n",
       "24  0.619048     0.666667\n",
       "25  0.408451     0.309859\n",
       "26  0.500000     0.200000\n",
       "27  0.384615     0.307692\n",
       "28  0.566667     0.600000\n",
       "29  0.559322     0.593220"
      ]
     },
     "execution_count": 11,
     "metadata": {},
     "output_type": "execute_result"
    }
   ],
   "source": [
    "accuracy_data = pd.DataFrame(np.array(accuracy).T,columns = metrics)\n",
    "accuracy_data"
   ]
  },
  {
   "cell_type": "code",
   "execution_count": 12,
   "metadata": {},
   "outputs": [
    {
     "data": {
      "text/plain": [
       "<matplotlib.axes._subplots.AxesSubplot at 0x1f9408e9308>"
      ]
     },
     "execution_count": 12,
     "metadata": {},
     "output_type": "execute_result"
    },
    {
     "data": {
      "image/png": "[encoded data removed]",
      "text/plain": [
       "<Figure size 1440x648 with 1 Axes>"
      ]
     },
     "metadata": {
      "needs_background": "light"
     },
     "output_type": "display_data"
    }
   ],
   "source": [
    "accuracy_data.plot(figsize = (20,9),lw=3)"
   ]
  },
  {
   "cell_type": "markdown",
   "metadata": {},
   "source": [
    "### Generates a plot of the weighted accuracy across each metric for the test set"
   ]
  },
  {
   "cell_type": "code",
   "execution_count": 13,
   "metadata": {},
   "outputs": [
    {
     "data": {
      "text/plain": [
       "cosine         0.505342\n",
       "correlation    0.421864\n",
       "dtype: float64"
      ]
     },
     "execution_count": 13,
     "metadata": {},
     "output_type": "execute_result"
    }
   ],
   "source": [
    "accuracy_data.mean()"
   ]
  },
  {
   "cell_type": "code",
   "execution_count": 14,
   "metadata": {},
   "outputs": [
    {
     "data": {
      "text/plain": [
       "<matplotlib.axes._subplots.AxesSubplot at 0x1f94b338808>"
      ]
     },
     "execution_count": 14,
     "metadata": {},
     "output_type": "execute_result"
    },
    {
     "data": {
      "image/png": "[encoded data removed]",
      "text/plain": [
       "<Figure size 432x288 with 1 Axes>"
      ]
     },
     "metadata": {
      "needs_background": "light"
     },
     "output_type": "display_data"
    }
   ],
   "source": [
    "accuracy_data.mean().plot(kind  = 'bar')"
   ]
  },
  {
   "cell_type": "markdown",
   "metadata": {},
   "source": [
    "#### **The metric with the higest accuracy is the cosine metric** "
   ]
  },
  {
   "cell_type": "code",
   "execution_count": null,
   "metadata": {},
   "outputs": [],
   "source": []
  },
  {
   "cell_type": "markdown",
   "metadata": {},
   "source": [
    "#### A benchmark of the time taken to make movie recommmendations"
   ]
  },
  {
   "cell_type": "code",
   "execution_count": 15,
   "metadata": {},
   "outputs": [
    {
     "name": "stdout",
     "output_type": "stream",
     "text": [
      "Wall time: 3.32 s\n"
     ]
    },
    {
     "data": {
      "text/plain": [
       "0.4489795918367347"
      ]
     },
     "execution_count": 15,
     "metadata": {},
     "output_type": "execute_result"
    }
   ],
   "source": [
    "%%time\n",
    "prediction_single_user(train_set,test_set,1,min_rating =4,metric_to_use = 'cosine')"
   ]
  },
  {
   "cell_type": "code",
   "execution_count": 16,
   "metadata": {},
   "outputs": [
    {
     "name": "stdout",
     "output_type": "stream",
     "text": [
      "Wall time: 1.53 s\n"
     ]
    },
    {
     "data": {
      "text/plain": [
       "0.7777777777777778"
      ]
     },
     "execution_count": 16,
     "metadata": {},
     "output_type": "execute_result"
    }
   ],
   "source": [
    "%%time\n",
    "prediction_single_user(train_set,test_set,2,min_rating =4,metric_to_use = 'cosine')"
   ]
  },
  {
   "cell_type": "code",
   "execution_count": 17,
   "metadata": {},
   "outputs": [
    {
     "name": "stdout",
     "output_type": "stream",
     "text": [
      "Wall time: 2.6 s\n"
     ]
    },
    {
     "data": {
      "text/plain": [
       "0.42857142857142855"
      ]
     },
     "execution_count": 17,
     "metadata": {},
     "output_type": "execute_result"
    }
   ],
   "source": [
    "%%time\n",
    "prediction_single_user(train_set,test_set,23,min_rating =4,metric_to_use = 'cosine')"
   ]
  },
  {
   "cell_type": "code",
   "execution_count": 18,
   "metadata": {},
   "outputs": [
    {
     "name": "stdout",
     "output_type": "stream",
     "text": [
      "Wall time: 708 ms\n"
     ]
    },
    {
     "data": {
      "text/plain": [
       "0.5"
      ]
     },
     "execution_count": 18,
     "metadata": {},
     "output_type": "execute_result"
    }
   ],
   "source": [
    "%%time\n",
    "prediction_single_user(train_set,test_set,120,min_rating =4,metric_to_use = 'cosine')"
   ]
  },
  {
   "cell_type": "code",
   "execution_count": 19,
   "metadata": {},
   "outputs": [
    {
     "name": "stdout",
     "output_type": "stream",
     "text": [
      "Wall time: 2.23 s\n"
     ]
    },
    {
     "data": {
      "text/plain": [
       "0.6923076923076923"
      ]
     },
     "execution_count": 19,
     "metadata": {},
     "output_type": "execute_result"
    }
   ],
   "source": [
    "%%time\n",
    "prediction_single_user(train_set,test_set,911,min_rating =4,metric_to_use = 'cosine')"
   ]
  },
  {
   "cell_type": "code",
   "execution_count": 20,
   "metadata": {},
   "outputs": [
    {
     "name": "stdout",
     "output_type": "stream",
     "text": [
      "Wall time: 3.35 s\n"
     ]
    },
    {
     "data": {
      "text/plain": [
       "['Glory (1989)',\n",
       " 'Sneakers (1992)',\n",
       " 'When Harry Met Sally... (1989)',\n",
       " 'E.T. the Extra-Terrestrial (1982)',\n",
       " 'Braveheart (1995)',\n",
       " 'Speed (1994)',\n",
       " 'Empire Strikes Back, The (1980)',\n",
       " 'Stand by Me (1986)',\n",
       " 'Hoop Dreams (1994)',\n",
       " 'Sleepless in Seattle (1993)',\n",
       " 'Back to the Future (1985)',\n",
       " 'Princess Bride, The (1987)',\n",
       " 'Jerry Maguire (1996)',\n",
       " 'Fugitive, The (1993)',\n",
       " 'Blues Brothers, The (1980)',\n",
       " 'Forrest Gump (1994)',\n",
       " 'Lion King, The (1994)',\n",
       " 'Return of the Jedi (1983)',\n",
       " 'Star Wars (1977)',\n",
       " 'Apollo 13 (1995)',\n",
       " 'Full Metal Jacket (1987)',\n",
       " 'Monty Python and the Holy Grail (1974)',\n",
       " 'Fish Called Wanda, A (1988)',\n",
       " 'Outbreak (1995)',\n",
       " 'Othello (1995)',\n",
       " \"One Flew Over the Cuckoo's Nest (1975)\",\n",
       " 'One Fine Day (1996)',\n",
       " 'On Golden Pond (1981)',\n",
       " 'Omen, The (1976)',\n",
       " 'Old Yeller (1957)',\n",
       " 'Quiz Show (1994)',\n",
       " 'Clueless (1995)',\n",
       " 'Hunt for Red October, The (1990)',\n",
       " 'Indiana Jones and the Last Crusade (1989)',\n",
       " 'Much Ado About Nothing (1993)',\n",
       " 'Dave (1993)',\n",
       " 'Highlander (1986)',\n",
       " 'Dead Poets Society (1989)',\n",
       " 'Crying Game, The (1992)',\n",
       " 'Silence of the Lambs, The (1991)',\n",
       " 'Interview with the Vampire (1994)',\n",
       " 'Get Shorty (1995)',\n",
       " 'Shawshank Redemption, The (1994)',\n",
       " 'Pink Floyd - The Wall (1982)',\n",
       " 'Sling Blade (1996)',\n",
       " 'Toy Story (1995)',\n",
       " 'Cook the Thief His Wife & Her Lover, The (1989)',\n",
       " 'Heat (1995)',\n",
       " 'Jaws (1975)',\n",
       " 'Pulp Fiction (1994)',\n",
       " 'Rumble in the Bronx (1995)',\n",
       " 'Seven (Se7en) (1995)',\n",
       " \"Bram Stoker's Dracula (1992)\",\n",
       " 'In the Line of Fire (1993)',\n",
       " 'Evil Dead II (1987)',\n",
       " 'GoodFellas (1990)',\n",
       " 'Fargo (1996)',\n",
       " 'Mars Attacks! (1996)',\n",
       " 'Die Hard (1988)',\n",
       " 'Basic Instinct (1992)',\n",
       " 'Broken Arrow (1996)',\n",
       " 'Twelve Monkeys (1995)',\n",
       " 'Star Trek: First Contact (1996)',\n",
       " 'Aliens (1986)',\n",
       " 'Terminator 2: Judgment Day (1991)',\n",
       " 'Star Trek: The Wrath of Khan (1982)',\n",
       " 'To Kill a Mockingbird (1962)',\n",
       " 'Brothers McMullen, The (1995)',\n",
       " 'Hudsucker Proxy, The (1994)',\n",
       " 'Reservoir Dogs (1992)',\n",
       " 'Four Rooms (1995)',\n",
       " 'Mary Poppins (1964)',\n",
       " 'From Dusk Till Dawn (1996)',\n",
       " 'Space Jam (1996)',\n",
       " \"Schindler's List (1993)\",\n",
       " 'Time to Kill, A (1996)',\n",
       " 'True Romance (1993)',\n",
       " 'Desperado (1995)',\n",
       " 'Unforgiven (1992)',\n",
       " 'Independence Day (ID4) (1996)',\n",
       " 'Top Gun (1986)',\n",
       " 'Fifth Element, The (1997)',\n",
       " 'Like Water For Chocolate (Como agua para chocolate) (1992)',\n",
       " 'Secrets & Lies (1996)',\n",
       " \"Sophie's Choice (1982)\",\n",
       " 'Hamlet (1996)',\n",
       " 'Duck Soup (1933)',\n",
       " 'Bridges of Madison County, The (1995)',\n",
       " 'Secret Garden, The (1993)',\n",
       " 'Psycho (1960)',\n",
       " 'My Fair Lady (1964)',\n",
       " 'Victor/Victoria (1982)',\n",
       " 'Sense and Sensibility (1995)',\n",
       " 'Gandhi (1982)',\n",
       " 'Good, The Bad and The Ugly, The (1966)',\n",
       " 'Walk in the Clouds, A (1995)',\n",
       " 'Short Cuts (1993)',\n",
       " 'Birds, The (1963)',\n",
       " 'Sting, The (1973)',\n",
       " 'Platoon (1986)',\n",
       " 'Bridge on the River Kwai, The (1957)',\n",
       " 'Heathers (1989)',\n",
       " 'Postman, The (1997)',\n",
       " 'Apostle, The (1997)',\n",
       " 'Quiet Man, The (1952)',\n",
       " 'Sabrina (1954)',\n",
       " 'Beautician and the Beast, The (1997)',\n",
       " 'Mrs. Brown (Her Majesty, Mrs. Brown) (1997)',\n",
       " 'Man Who Knew Too Little, The (1997)',\n",
       " 'I Know What You Did Last Summer (1997)',\n",
       " 'Day the Earth Stood Still, The (1951)',\n",
       " 'Jungle2Jungle (1997)',\n",
       " 'Father of the Bride (1950)',\n",
       " 'Mr. Smith Goes to Washington (1939)',\n",
       " 'Man Without a Face, The (1993)',\n",
       " 'Six Degrees of Separation (1993)',\n",
       " 'Ran (1985)',\n",
       " 'In & Out (1997)',\n",
       " 'George of the Jungle (1997)',\n",
       " 'Aladdin (1992)',\n",
       " 'Crow, The (1994)',\n",
       " 'Clockwork Orange, A (1971)',\n",
       " 'True Lies (1994)',\n",
       " 'Real Genius (1985)',\n",
       " 'Rock, The (1996)',\n",
       " 'Mission: Impossible (1996)',\n",
       " 'Die Hard 2 (1990)',\n",
       " 'Willy Wonka and the Chocolate Factory (1971)',\n",
       " 'Godfather, The (1972)',\n",
       " 'Close Shave, A (1995)',\n",
       " 'Grand Day Out, A (1992)',\n",
       " 'Batman (1989)',\n",
       " 'Benny & Joon (1993)',\n",
       " 'Dr. Strangelove or: How I Learned to Stop Worrying and Love the Bomb (1963)',\n",
       " 'Chain Reaction (1996)',\n",
       " 'How to Make an American Quilt (1995)',\n",
       " 'Liar Liar (1997)',\n",
       " 'Batman Returns (1992)',\n",
       " 'Multiplicity (1996)',\n",
       " 'Looking for Richard (1996)',\n",
       " 'Bound (1996)',\n",
       " 'People vs. Larry Flynt, The (1996)',\n",
       " 'Extreme Measures (1996)',\n",
       " 'Cinderella (1950)',\n",
       " 'James and the Giant Peach (1996)',\n",
       " 'That Thing You Do! (1996)',\n",
       " 'Shine (1996)',\n",
       " 'Restoration (1995)',\n",
       " 'Everyone Says I Love You (1996)',\n",
       " 'Primal Fear (1996)',\n",
       " '2 Days in the Valley (1996)',\n",
       " 'Being There (1979)',\n",
       " 'Leaving Las Vegas (1995)',\n",
       " 'Crumb (1994)',\n",
       " 'Mother (1996)',\n",
       " 'Snow White and the Seven Dwarfs (1937)',\n",
       " 'Big Night (1996)',\n",
       " 'Bean (1997)',\n",
       " 'Rosencrantz and Guildenstern Are Dead (1990)',\n",
       " 'Ref, The (1994)',\n",
       " 'Four Weddings and a Funeral (1994)',\n",
       " 'Men in Black (1997)',\n",
       " 'Addicted to Love (1997)',\n",
       " 'Ransom (1996)',\n",
       " 'Face/Off (1997)',\n",
       " 'Dragonheart (1996)',\n",
       " 'This Is Spinal Tap (1984)',\n",
       " 'Blade Runner (1982)',\n",
       " 'Crimson Tide (1995)',\n",
       " '2001: A Space Odyssey (1968)',\n",
       " 'Last Supper, The (1995)',\n",
       " 'Age of Innocence, The (1993)',\n",
       " 'Pretty Woman (1990)',\n",
       " 'Citizen Kane (1941)',\n",
       " 'Beautiful Girls (1996)',\n",
       " 'Maltese Falcon, The (1941)',\n",
       " 'Some Like It Hot (1959)',\n",
       " \"Muriel's Wedding (1994)\",\n",
       " 'Seventh Seal, The (Sjunde inseglet, Det) (1957)',\n",
       " 'Breaking the Waves (1996)',\n",
       " '39 Steps, The (1935)',\n",
       " 'Bananas (1971)',\n",
       " 'First Wives Club, The (1996)',\n",
       " 'Nightmare on Elm Street, A (1984)',\n",
       " 'Grease (1978)',\n",
       " 'Star Trek III: The Search for Spock (1984)',\n",
       " 'Abyss, The (1989)',\n",
       " 'Cape Fear (1991)',\n",
       " 'Clear and Present Danger (1994)',\n",
       " 'Addams Family Values (1993)',\n",
       " 'Firm, The (1993)',\n",
       " 'Batman Forever (1995)',\n",
       " 'Ghost (1990)',\n",
       " 'Young Guns (1988)',\n",
       " 'Wizard of Oz, The (1939)',\n",
       " 'Mrs. Doubtfire (1993)',\n",
       " 'Scream (1996)',\n",
       " 'Birdcage, The (1996)',\n",
       " 'Stargate (1994)']"
      ]
     },
     "execution_count": 20,
     "metadata": {},
     "output_type": "execute_result"
    }
   ],
   "source": [
    "%%time\n",
    "Movie_recomendation_system.automatic_recommendation(user_preference,1)"
   ]
  }
 ],
 "metadata": {
  "kernelspec": {
   "display_name": "Python 3",
   "language": "python",
   "name": "python3"
  },
  "language_info": {
   "codemirror_mode": {
    "name": "ipython",
    "version": 3
   },
   "file_extension": ".py",
   "mimetype": "text/x-python",
   "name": "python",
   "nbconvert_exporter": "python",
   "pygments_lexer": "ipython3",
   "version": "3.7.6"
  }
 },
 "nbformat": 4,
 "nbformat_minor": 4
}
