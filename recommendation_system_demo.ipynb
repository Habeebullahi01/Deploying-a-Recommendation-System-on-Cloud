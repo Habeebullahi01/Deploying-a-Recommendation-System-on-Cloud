{
 "cells": [
  {
   "cell_type": "code",
   "execution_count": 2,
   "metadata": {},
   "outputs": [],
   "source": [
    "from recommendation_engine import Movie_recomendation_system"
   ]
  },
  {
   "cell_type": "code",
   "execution_count": 4,
   "metadata": {},
   "outputs": [
    {
     "data": {
      "text/plain": [
       "['Willy Wonka and the Chocolate Factory (1971)',\n",
       " 'Glory (1989)',\n",
       " 'Highlander (1986)',\n",
       " 'Silence of the Lambs, The (1991)',\n",
       " 'Top Gun (1986)',\n",
       " 'Star Trek III: The Search for Spock (1984)',\n",
       " 'Starship Troopers (1997)',\n",
       " 'Face/Off (1997)',\n",
       " 'Independence Day (ID4) (1996)',\n",
       " 'Star Trek VI: The Undiscovered Country (1991)',\n",
       " 'Mrs. Doubtfire (1993)',\n",
       " 'Unforgiven (1992)',\n",
       " 'Clueless (1995)',\n",
       " 'Lion King, The (1994)',\n",
       " 'Full Metal Jacket (1987)',\n",
       " '2001: A Space Odyssey (1968)',\n",
       " 'Apocalypse Now (1979)',\n",
       " 'Fantasia (1940)',\n",
       " 'Snow White and the Seven Dwarfs (1937)',\n",
       " 'Field of Dreams (1989)',\n",
       " 'Long Kiss Goodnight, The (1996)',\n",
       " 'Men in Black (1997)',\n",
       " 'Seven (Se7en) (1995)',\n",
       " 'Leaving Las Vegas (1995)',\n",
       " 'Dr. Strangelove or: How I Learned to Stop Worrying and Love the Bomb (1963)',\n",
       " 'Kingpin (1996)',\n",
       " 'Ghost (1990)',\n",
       " 'Right Stuff, The (1983)',\n",
       " 'Speed (1994)',\n",
       " 'Four Weddings and a Funeral (1994)',\n",
       " 'Forrest Gump (1994)',\n",
       " \"Schindler's List (1993)\",\n",
       " 'Die Hard: With a Vengeance (1995)',\n",
       " 'Dragonheart (1996)',\n",
       " 'Grease (1978)',\n",
       " 'In the Line of Fire (1993)',\n",
       " 'English Patient, The (1996)',\n",
       " 'Casablanca (1942)',\n",
       " 'Jaws (1975)',\n",
       " 'Blues Brothers, The (1980)',\n",
       " 'Heathers (1989)',\n",
       " 'While You Were Sleeping (1995)',\n",
       " 'M*A*S*H (1970)',\n",
       " 'Twelve Monkeys (1995)',\n",
       " 'Fugitive, The (1993)',\n",
       " 'Quiz Show (1994)',\n",
       " 'Dave (1993)',\n",
       " 'Babe (1995)']"
      ]
     },
     "execution_count": 4,
     "metadata": {},
     "output_type": "execute_result"
    }
   ],
   "source": [
    " Movie_recomendation_system.automatic_recommendation(1)"
   ]
  },
  {
   "cell_type": "code",
   "execution_count": 5,
   "metadata": {},
   "outputs": [
    {
     "data": {
      "text/plain": [
       "['Orlando (1993)', 'Other Voices, Other Rooms (1997)', 'Outbreak (1995)']"
      ]
     },
     "execution_count": 5,
     "metadata": {},
     "output_type": "execute_result"
    }
   ],
   "source": [
    "Movie_recomendation_system.recommendation_by_favourite_movie(2,'Quiz Show (1994)')"
   ]
  },
  {
   "cell_type": "code",
   "execution_count": null,
   "metadata": {},
   "outputs": [],
   "source": []
  }
 ],
 "metadata": {
  "kernelspec": {
   "display_name": "Python 3",
   "language": "python",
   "name": "python3"
  },
  "language_info": {
   "codemirror_mode": {
    "name": "ipython",
    "version": 3
   },
   "file_extension": ".py",
   "mimetype": "text/x-python",
   "name": "python",
   "nbconvert_exporter": "python",
   "pygments_lexer": "ipython3",
   "version": "3.7.6"
  }
 },
 "nbformat": 4,
 "nbformat_minor": 4
}
