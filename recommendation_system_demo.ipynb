{
 "cells": [
  {
   "cell_type": "code",
   "execution_count": 8,
   "metadata": {},
   "outputs": [],
   "source": [
    "from recommendation_engine import Movie_recomendation_system"
   ]
  },
  {
   "cell_type": "code",
   "execution_count": 9,
   "metadata": {},
   "outputs": [
    {
     "name": "stdout",
     "output_type": "stream",
     "text": [
      "Wall time: 2.92 s\n"
     ]
    },
    {
     "data": {
      "text/plain": [
       "['Trainspotting (1996)',\n",
       " 'Dead Poets Society (1989)',\n",
       " 'While You Were Sleeping (1995)',\n",
       " 'First Wives Club, The (1996)',\n",
       " 'Right Stuff, The (1983)']"
      ]
     },
     "execution_count": 9,
     "metadata": {},
     "output_type": "execute_result"
    }
   ],
   "source": [
    "%%time\n",
    "Movie_recomendation_system.automatic_recommendation(1)"
   ]
  },
  {
   "cell_type": "code",
   "execution_count": 10,
   "metadata": {},
   "outputs": [
    {
     "name": "stdout",
     "output_type": "stream",
     "text": [
      "Wall time: 3 s\n"
     ]
    },
    {
     "data": {
      "text/plain": [
       "['Big Night (1996)',\n",
       " 'Dragonheart (1996)',\n",
       " \"One Flew Over the Cuckoo's Nest (1975)\",\n",
       " 'Godfather, The (1972)',\n",
       " 'Beauty and the Beast (1991)',\n",
       " 'Scream (1996)']"
      ]
     },
     "execution_count": 10,
     "metadata": {},
     "output_type": "execute_result"
    }
   ],
   "source": [
    "%%time\n",
    "Movie_recomendation_system.automatic_recommendation(1)"
   ]
  },
  {
   "cell_type": "code",
   "execution_count": 11,
   "metadata": {},
   "outputs": [
    {
     "name": "stdout",
     "output_type": "stream",
     "text": [
      "Wall time: 3.05 s\n"
     ]
    },
    {
     "data": {
      "text/plain": [
       "['Big Night (1996)',\n",
       " 'Dragonheart (1996)',\n",
       " 'Glory (1989)',\n",
       " 'Courage Under Fire (1996)',\n",
       " 'Fried Green Tomatoes (1991)',\n",
       " 'Volcano (1997)',\n",
       " 'Executive Decision (1996)']"
      ]
     },
     "execution_count": 11,
     "metadata": {},
     "output_type": "execute_result"
    }
   ],
   "source": [
    "%%time\n",
    "Movie_recomendation_system.automatic_recommendation(1)"
   ]
  },
  {
   "cell_type": "code",
   "execution_count": 5,
   "metadata": {},
   "outputs": [
    {
     "name": "stdout",
     "output_type": "stream",
     "text": [
      "Wall time: 2.86 s\n"
     ]
    },
    {
     "data": {
      "text/plain": [
       "['Die Hard (1988)',\n",
       " 'Dave (1993)',\n",
       " 'Terminator 2: Judgment Day (1991)',\n",
       " 'Stand by Me (1986)',\n",
       " 'Star Trek: First Contact (1996)',\n",
       " 'Raiders of the Lost Ark (1981)',\n",
       " 'Star Wars (1977)',\n",
       " 'Get Shorty (1995)',\n",
       " 'Shawshank Redemption, The (1994)',\n",
       " 'First Wives Club, The (1996)',\n",
       " 'Quiz Show (1994)',\n",
       " 'Abyss, The (1989)',\n",
       " 'Raising Arizona (1987)',\n",
       " 'Silence of the Lambs, The (1991)',\n",
       " 'Toy Story (1995)']"
      ]
     },
     "execution_count": 5,
     "metadata": {},
     "output_type": "execute_result"
    }
   ],
   "source": [
    "%%time\n",
    "Movie_recomendation_system.automatic_recommendation(1)"
   ]
  },
  {
   "cell_type": "code",
   "execution_count": 6,
   "metadata": {},
   "outputs": [
    {
     "name": "stdout",
     "output_type": "stream",
     "text": [
      "Wall time: 2.84 s\n"
     ]
    },
    {
     "data": {
      "text/plain": [
       "['Apocalypse Now (1979)',\n",
       " '2001: A Space Odyssey (1968)',\n",
       " \"Monty Python's Life of Brian (1979)\",\n",
       " 'True Lies (1994)',\n",
       " 'Die Hard (1988)',\n",
       " 'Dave (1993)',\n",
       " 'Terminator 2: Judgment Day (1991)',\n",
       " 'Stand by Me (1986)',\n",
       " 'Star Trek: First Contact (1996)',\n",
       " 'North by Northwest (1959)',\n",
       " 'Face/Off (1997)',\n",
       " 'Return of the Jedi (1983)',\n",
       " 'Seven (Se7en) (1995)',\n",
       " 'Twelve Monkeys (1995)',\n",
       " 'Toy Story (1995)',\n",
       " 'Right Stuff, The (1983)']"
      ]
     },
     "execution_count": 6,
     "metadata": {},
     "output_type": "execute_result"
    }
   ],
   "source": [
    "%%time\n",
    "Movie_recomendation_system.automatic_recommendation(1)"
   ]
  },
  {
   "cell_type": "code",
   "execution_count": 7,
   "metadata": {},
   "outputs": [
    {
     "name": "stdout",
     "output_type": "stream",
     "text": [
      "Wall time: 2.98 s\n"
     ]
    },
    {
     "data": {
      "text/plain": [
       "['North by Northwest (1959)',\n",
       " 'Face/Off (1997)',\n",
       " 'Seven (Se7en) (1995)',\n",
       " 'Unforgiven (1992)',\n",
       " 'Get Shorty (1995)',\n",
       " 'Raiders of the Lost Ark (1981)']"
      ]
     },
     "execution_count": 7,
     "metadata": {},
     "output_type": "execute_result"
    }
   ],
   "source": [
    "%%time\n",
    "Movie_recomendation_system.automatic_recommendation(1)"
   ]
  },
  {
   "cell_type": "code",
   "execution_count": null,
   "metadata": {},
   "outputs": [],
   "source": []
  }
 ],
 "metadata": {
  "kernelspec": {
   "display_name": "Python 3",
   "language": "python",
   "name": "python3"
  },
  "language_info": {
   "codemirror_mode": {
    "name": "ipython",
    "version": 3
   },
   "file_extension": ".py",
   "mimetype": "text/x-python",
   "name": "python",
   "nbconvert_exporter": "python",
   "pygments_lexer": "ipython3",
   "version": "3.7.6"
  }
 },
 "nbformat": 4,
 "nbformat_minor": 4
}
